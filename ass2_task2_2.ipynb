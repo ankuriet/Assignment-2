{
  "nbformat": 4,
  "nbformat_minor": 0,
  "metadata": {
    "colab": {
      "name": "ass2 task2 2.ipynb",
      "provenance": [],
      "collapsed_sections": [],
      "authorship_tag": "ABX9TyPKvszcbdxEUokF+h3XEcWv",
      "include_colab_link": true
    },
    "kernelspec": {
      "name": "python3",
      "display_name": "Python 3"
    }
  },
  "cells": [
    {
      "cell_type": "markdown",
      "metadata": {
        "id": "view-in-github",
        "colab_type": "text"
      },
      "source": [
        "<a href=\"https://colab.research.google.com/github/ankuriet/Assignment-2/blob/master/ass2_task2_2.ipynb\" target=\"_parent\"><img src=\"https://colab.research.google.com/assets/colab-badge.svg\" alt=\"Open In Colab\"/></a>"
      ]
    },
    {
      "cell_type": "code",
      "metadata": {
        "id": "rRIVn0dOQvU3",
        "colab_type": "code",
        "colab": {}
      },
      "source": [
        "def word_to_len(l):\n",
        "  new=[]\n",
        "  for i in l:\n",
        "    new.append(len(i))\n",
        "  return new  "
      ],
      "execution_count": 0,
      "outputs": []
    },
    {
      "cell_type": "code",
      "metadata": {
        "id": "y_VUJJrlRLEZ",
        "colab_type": "code",
        "colab": {
          "base_uri": "https://localhost:8080/",
          "height": 34
        },
        "outputId": "a644b6ca-6dfb-449a-f38a-b809a10ec7bf"
      },
      "source": [
        "word_to_len([\"ankur\",\"fgdhfghgfhghf\",\"hgf\",\"dvvgeyhebdvgdgdg\",\"f\"])"
      ],
      "execution_count": 2,
      "outputs": [
        {
          "output_type": "execute_result",
          "data": {
            "text/plain": [
              "[5, 13, 3, 16, 1]"
            ]
          },
          "metadata": {
            "tags": []
          },
          "execution_count": 2
        }
      ]
    },
    {
      "cell_type": "code",
      "metadata": {
        "id": "HS-vAvi4R3R9",
        "colab_type": "code",
        "colab": {}
      },
      "source": [
        "def check_vowel(l):\n",
        "  if l==\"a\"or\"e\"or\"i\"or\"o\"or\"u\":\n",
        "    return True\n",
        "  else:\n",
        "    return False"
      ],
      "execution_count": 0,
      "outputs": []
    },
    {
      "cell_type": "code",
      "metadata": {
        "id": "HfORz8ywSaHq",
        "colab_type": "code",
        "colab": {
          "base_uri": "https://localhost:8080/",
          "height": 34
        },
        "outputId": "ba02b16e-1ae1-45ce-b4a9-f9a17401f49f"
      },
      "source": [
        "check_vowel(\"u\")"
      ],
      "execution_count": 4,
      "outputs": [
        {
          "output_type": "execute_result",
          "data": {
            "text/plain": [
              "True"
            ]
          },
          "metadata": {
            "tags": []
          },
          "execution_count": 4
        }
      ]
    }
  ]
}