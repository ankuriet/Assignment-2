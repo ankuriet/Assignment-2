{
  "nbformat": 4,
  "nbformat_minor": 0,
  "metadata": {
    "colab": {
      "name": "ass2 task1 3.ipynb",
      "provenance": [],
      "collapsed_sections": [],
      "authorship_tag": "ABX9TyPcJr6UR4O/IiUQunT17w/y",
      "include_colab_link": true
    },
    "kernelspec": {
      "name": "python3",
      "display_name": "Python 3"
    }
  },
  "cells": [
    {
      "cell_type": "markdown",
      "metadata": {
        "id": "view-in-github",
        "colab_type": "text"
      },
      "source": [
        "<a href=\"https://colab.research.google.com/github/ankuriet/Assignment-2/blob/master/ass2_task1_3.ipynb\" target=\"_parent\"><img src=\"https://colab.research.google.com/assets/colab-badge.svg\" alt=\"Open In Colab\"/></a>"
      ]
    },
    {
      "cell_type": "code",
      "metadata": {
        "id": "-BIO3mTHM_OB",
        "colab_type": "code",
        "colab": {}
      },
      "source": [
        "def longestWord(lista):\n",
        "  max=lista[0]\n",
        "  for i in lista:\n",
        "    if len(i)>len(max):\n",
        "      max=i\n",
        "  return max\n",
        "      "
      ],
      "execution_count": 0,
      "outputs": []
    },
    {
      "cell_type": "code",
      "metadata": {
        "id": "QIxzJsHINwBK",
        "colab_type": "code",
        "colab": {
          "base_uri": "https://localhost:8080/",
          "height": 34
        },
        "outputId": "be1c74fb-389c-4e0b-cbe6-148f1e55a10b"
      },
      "source": [
        "longestWord([\"ankur\",\"fgdhfghgfhghf\",\"hgf\",\"dvvgeyhebdvgdgdg\",\"f\"])"
      ],
      "execution_count": 2,
      "outputs": [
        {
          "output_type": "execute_result",
          "data": {
            "text/plain": [
              "'dvvgeyhebdvgdgdg'"
            ]
          },
          "metadata": {
            "tags": []
          },
          "execution_count": 2
        }
      ]
    }
  ]
}