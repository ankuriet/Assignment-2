{
  "nbformat": 4,
  "nbformat_minor": 0,
  "metadata": {
    "colab": {
      "name": "ass2 task1 1.ipynb",
      "provenance": [],
      "collapsed_sections": [],
      "authorship_tag": "ABX9TyPR3RnRlO0FJdOMUabcJkmE",
      "include_colab_link": true
    },
    "kernelspec": {
      "name": "python3",
      "display_name": "Python 3"
    }
  },
  "cells": [
    {
      "cell_type": "markdown",
      "metadata": {
        "id": "view-in-github",
        "colab_type": "text"
      },
      "source": [
        "<a href=\"https://colab.research.google.com/github/ankuriet/Assignment-2/blob/master/ass2_task1_1.ipynb\" target=\"_parent\"><img src=\"https://colab.research.google.com/assets/colab-badge.svg\" alt=\"Open In Colab\"/></a>"
      ]
    },
    {
      "cell_type": "code",
      "metadata": {
        "id": "FaRy_i7x9oOt",
        "colab_type": "code",
        "colab": {}
      },
      "source": [
        "def myreduce(func,seq):\n",
        "  for i in range(len(seq)-1):\n",
        "    p=func(seq[i],seq[i+1])\n",
        "    seq[i+1]=p\n",
        "  return p"
      ],
      "execution_count": 0,
      "outputs": []
    },
    {
      "cell_type": "code",
      "metadata": {
        "id": "n79NcnHCnlQL",
        "colab_type": "code",
        "colab": {
          "base_uri": "https://localhost:8080/",
          "height": 34
        },
        "outputId": "40361e7c-4d73-48ec-bb89-24b253a23813"
      },
      "source": [
        "myreduce(lambda x,y : x+y,[1,2,3,4,5,6,7,8,9])"
      ],
      "execution_count": 5,
      "outputs": [
        {
          "output_type": "execute_result",
          "data": {
            "text/plain": [
              "45"
            ]
          },
          "metadata": {
            "tags": []
          },
          "execution_count": 5
        }
      ]
    },
    {
      "cell_type": "code",
      "metadata": {
        "id": "EwBBDyVtoR0X",
        "colab_type": "code",
        "colab": {}
      },
      "source": [
        "def myfilter(func,seq):\n",
        "  new = []\n",
        "  for i in seq:\n",
        "    if func(i) == True:\n",
        "      new.append(i)\n",
        "  return new"
      ],
      "execution_count": 0,
      "outputs": []
    },
    {
      "cell_type": "code",
      "metadata": {
        "id": "uVhueWmiom5W",
        "colab_type": "code",
        "colab": {
          "base_uri": "https://localhost:8080/",
          "height": 34
        },
        "outputId": "0a19bc3e-dfce-4884-dcc5-4f23e1019d94"
      },
      "source": [
        "myfilter(lambda x:x%2==0,[1,2,3,4,5,6,7,8,9])"
      ],
      "execution_count": 7,
      "outputs": [
        {
          "output_type": "execute_result",
          "data": {
            "text/plain": [
              "[2, 4, 6, 8]"
            ]
          },
          "metadata": {
            "tags": []
          },
          "execution_count": 7
        }
      ]
    }
  ]
}