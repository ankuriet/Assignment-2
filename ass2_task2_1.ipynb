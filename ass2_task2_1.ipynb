{
  "nbformat": 4,
  "nbformat_minor": 0,
  "metadata": {
    "colab": {
      "name": "ass2 task2 1.ipynb",
      "provenance": [],
      "collapsed_sections": [],
      "authorship_tag": "ABX9TyO77aftOdDFM2afUkT/QZm0",
      "include_colab_link": true
    },
    "kernelspec": {
      "name": "python3",
      "display_name": "Python 3"
    }
  },
  "cells": [
    {
      "cell_type": "markdown",
      "metadata": {
        "id": "view-in-github",
        "colab_type": "text"
      },
      "source": [
        "<a href=\"https://colab.research.google.com/github/ankuriet/Assignment-2/blob/master/ass2_task2_1.ipynb\" target=\"_parent\"><img src=\"https://colab.research.google.com/assets/colab-badge.svg\" alt=\"Open In Colab\"/></a>"
      ]
    },
    {
      "cell_type": "code",
      "metadata": {
        "id": "Y0HRDQGqeSPb",
        "colab_type": "code",
        "colab": {}
      },
      "source": [
        "class Siza:\n",
        "  def __init__(self,x,y,z):\n",
        "    self.side1=x\n",
        "    self.side2=y\n",
        "    self.side3=z\n",
        "class Second(Siza):\n",
        "  def __init__(self,x,y,z):\n",
        "    super().__init__(x,y,z)\n",
        "  def area(self):\n",
        "    s=self.side1+self.side2+self.side3\n",
        "    return (s*(s-self.side1)*(s-self.side2)*(s-self.side3)) ** 0.5"
      ],
      "execution_count": 0,
      "outputs": []
    },
    {
      "cell_type": "code",
      "metadata": {
        "id": "I1172rY7ef-6",
        "colab_type": "code",
        "colab": {
          "base_uri": "https://localhost:8080/",
          "height": 34
        },
        "outputId": "dcff6ded-b353-4329-e2fd-626522eff949"
      },
      "source": [
        "a=Second(1,2,3)\n",
        "a.area()"
      ],
      "execution_count": 4,
      "outputs": [
        {
          "output_type": "execute_result",
          "data": {
            "text/plain": [
              "18.973665961010276"
            ]
          },
          "metadata": {
            "tags": []
          },
          "execution_count": 4
        }
      ]
    },
    {
      "cell_type": "code",
      "metadata": {
        "id": "35L4Btsiez7u",
        "colab_type": "code",
        "colab": {}
      },
      "source": [
        "def filter_long_words(lis,n):\n",
        "  new=[]\n",
        "  for i in lis:\n",
        "    if len(i)>n:\n",
        "      new.append(i)\n",
        "  return new"
      ],
      "execution_count": 0,
      "outputs": []
    },
    {
      "cell_type": "code",
      "metadata": {
        "id": "rIDIikCxe3Hp",
        "colab_type": "code",
        "colab": {
          "base_uri": "https://localhost:8080/",
          "height": 34
        },
        "outputId": "79660d5b-22b1-49bd-f57b-5e849e841f9e"
      },
      "source": [
        "filter_long_words([\"fdsdfdsfds\",\"df\",\"fdsfsdf\",\"s\",\"fdsfsd\"],2)"
      ],
      "execution_count": 6,
      "outputs": [
        {
          "output_type": "execute_result",
          "data": {
            "text/plain": [
              "['fdsdfdsfds', 'fdsfsdf', 'fdsfsd']"
            ]
          },
          "metadata": {
            "tags": []
          },
          "execution_count": 6
        }
      ]
    }
  ]
}